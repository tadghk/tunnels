{
 "cells": [
  {
   "cell_type": "code",
   "execution_count": 3,
   "id": "6173a927",
   "metadata": {},
   "outputs": [],
   "source": [
    "import sys\n",
    "sys.path.append('./RECOTOOLS/')\n",
    "# import project_metadata\n",
    "from core import system_run, survey_metadata, run_collection, feature_collection\n",
    "import datalibrary\n",
    "import processor\n",
    "import systems.pelisystem\n",
    "import systems.balgraysystem\n",
    "from pandas_tools import *\n",
    "from mugrass.units import *\n",
    "from mugrass.voxelframe_meshgrid import *\n",
    "\n",
    "import pandas as pd\n",
    "import matplotlib.pyplot as plt\n",
    "from scipy import interpolate \n",
    "import scipy"
   ]
  },
  {
   "cell_type": "code",
   "execution_count": 4,
   "id": "9f36bb42",
   "metadata": {},
   "outputs": [],
   "source": [
    "# First build our voxel meshgrid\n",
    "minx = 0*m\n",
    "maxx =  130*m # ROI + a bit\n",
    "nx   = int((maxx-minx)/(1*m))\n",
    "\n",
    "miny = -30*m\n",
    "maxy =  30*m \n",
    "ny   = int((maxy-miny)/(1*m))\n",
    "\n",
    "minz = 0*m\n",
    "maxz = 55*m # Check how deep tunnel is in script 1\n",
    "nz   = int((maxz-minz)/(1*m))\n",
    "\n",
    "grid = voxelframe_meshgrid( xx=np.linspace(minx,maxx,nx),\n",
    "                            yy=np.linspace(miny,maxy,ny),\n",
    "                            zz=np.linspace(minz,maxz,nz) )\n",
    "\n",
    "# Call expand to fill in edges (increases memory consumption)\n",
    "grid.Expand()\n",
    "\n",
    "# If no terrain masking (next cell) desired, save this grid to a vxl file at this point\n",
    "#grid.Write(\"voxel_dataframe.vxl\")"
   ]
  },
  {
   "cell_type": "code",
   "execution_count": 6,
   "id": "1b9730c0",
   "metadata": {},
   "outputs": [
    {
     "name": "stderr",
     "output_type": "stream",
     "text": [
      "/tmp/ipykernel_71233/1522991754.py:24: SettingWithCopyWarning: \n",
      "A value is trying to be set on a copy of a slice from a DataFrame.\n",
      "Try using .loc[row_indexer,col_indexer] = value instead\n",
      "\n",
      "See the caveats in the documentation: https://pandas.pydata.org/pandas-docs/stable/user_guide/indexing.html#returning-a-view-versus-a-copy\n",
      "  gis_model_cut.Y=gis_model.Y\n"
     ]
    },
    {
     "name": "stdout",
     "output_type": "stream",
     "text": [
      "Saving Voxel Collection to  voxel_dataframe_masked.vxl\n"
     ]
    }
   ],
   "source": [
    "\n",
    "# If there is an offset in the terrain apply it here\n",
    "offset=0*m\n",
    "\n",
    "\n",
    "tunnel_height = 6*m # radius\n",
    "tunnel_width = 9*m/2 # radius\n",
    "grid.df[\"in_tunnel\"] = ((grid.df.y/tunnel_width)**2 + (grid.df.z/tunnel_height)**2) < 1.0\n",
    "\n",
    "\n",
    "# Load GIS Model\n",
    "\n",
    "gis_model = pd.read_csv(\"GIS/generated_gis_model.csv\")\n",
    "gis_model.X = gis_model.X*m + offset\n",
    "gis_model.Y = gis_model.Y*m\n",
    "gis_model.DTM = gis_model.DTM_gradcorr*m \n",
    "\n",
    "\n",
    "gis_model_cut = gis_model[ (gis_model.X > minx-10*m) &\n",
    "                       (gis_model.X < maxx+10*m) & \n",
    "                       (gis_model.Y > miny-1*m) & \n",
    "                       (gis_model.Y < maxy+1*m) ]\n",
    "\n",
    "#gis_model_cut.X=gis_model.X - centre_position\n",
    "gis_model_cut.Y=gis_model.Y\n",
    "\n",
    "gis_model_cut = gis_model_cut.groupby([\"X\",\"Y\"]).mean().reset_index()\n",
    "\n",
    "grid.df[\"DTM_height\"] = scipy.interpolate.griddata(\n",
    "        np.array([gis_model_cut.X, gis_model_cut.Y]).transpose(),\n",
    "        gis_model_cut.DTM,\n",
    "        np.array([grid.df.x, grid.df.y]).transpose()\n",
    "    )\n",
    "\n",
    "grid.df[\"above_surface\"] = grid.df.zu > grid.df[\"DTM_height\"]\n",
    "\n",
    "\n",
    "grid_masked = grid.df.loc[ (grid.df.in_tunnel==False) & (grid.df.above_surface==False) ]\n",
    "\n",
    "grid_masked.reset_index(drop=True, inplace=True)\n",
    "\n",
    "grid_masked_collection=voxelframe_meshgrid(voxel_df=grid_masked,config_dict={})\n",
    "\n",
    "#grid_masked_collection.Expand()\n",
    "\n",
    "grid_masked_collection.Write(\"voxel_dataframe_masked.vxl\")\n",
    "\n"
   ]
  },
  {
   "cell_type": "code",
   "execution_count": 7,
   "id": "18807534",
   "metadata": {},
   "outputs": [
    {
     "name": "stderr",
     "output_type": "stream",
     "text": [
      "/tmp/ipykernel_71233/1694767888.py:1: SettingWithCopyWarning: \n",
      "A value is trying to be set on a copy of a slice from a DataFrame.\n",
      "Try using .loc[row_indexer,col_indexer] = value instead\n",
      "\n",
      "See the caveats in the documentation: https://pandas.pydata.org/pandas-docs/stable/user_guide/indexing.html#returning-a-view-versus-a-copy\n",
      "  grid_masked_collection.df.value=2.65*g/cm3\n",
      "/tmp/ipykernel_71233/1694767888.py:5: SettingWithCopyWarning: \n",
      "A value is trying to be set on a copy of a slice from a DataFrame.\n",
      "Try using .loc[row_indexer,col_indexer] = value instead\n",
      "\n",
      "See the caveats in the documentation: https://pandas.pydata.org/pandas-docs/stable/user_guide/indexing.html#returning-a-view-versus-a-copy\n",
      "  grid_masked_collection.df[\"initial_guess\"] = grid_masked_collection.df[\"value\"]\n"
     ]
    },
    {
     "data": {
      "image/png": "[encoded data removed]",
      "text/plain": [
       "<Figure size 640x480 with 2 Axes>"
      ]
     },
     "metadata": {},
     "output_type": "display_data"
    }
   ],
   "source": [
    "grid_masked_collection.df.value=2.65*g/cm3\n",
    "grid_masked_collection.df.loc[grid_masked_collection.df.above_surface, \"value\"] = 0.0\n",
    "grid_masked_collection.df.loc[grid_masked_collection.df.in_tunnel, \"value\"] = 0.0\n",
    "\n",
    "grid_masked_collection.df[\"initial_guess\"] = grid_masked_collection.df[\"value\"]\n",
    "\n",
    "slice = grid_masked_collection.df[ np.abs(grid_masked_collection.df.y) < 1*m ]\n",
    "\n",
    "plt.hist2d(x=(slice.x)/m, y=slice.z/m, weights=(slice.initial_guess/len(np.unique(slice.y)))/(g/cm3), bins=[len(np.unique(slice.x)),len(np.unique(slice.z))])\n",
    "plt.title(\"Initial guess\")\n",
    "plt.xlabel(\"Position [m]\")\n",
    "plt.ylabel(\"Elevation [m]\")\n",
    "plt.colorbar(label=\"Density (g/cm3)\")\n",
    "plt.show()"
   ]
  }
 ],
 "metadata": {
  "kernelspec": {
   "display_name": "Python 3",
   "language": "python",
   "name": "python3"
  },
  "language_info": {
   "codemirror_mode": {
    "name": "ipython",
    "version": 3
   },
   "file_extension": ".py",
   "mimetype": "text/x-python",
   "name": "python",
   "nbconvert_exporter": "python",
   "pygments_lexer": "ipython3",
   "version": "3.8.10"
  },
  "vscode": {
   "interpreter": {
    "hash": "31f2aee4e71d21fbe5cf8b01ff0e069b9275f58929596ceb00d14d90e3e16cd6"
   }
  }
 },
 "nbformat": 4,
 "nbformat_minor": 5
}
